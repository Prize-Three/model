{
 "cells": [
  {
   "cell_type": "code",
   "execution_count": 1,
   "id": "ca66ed8b",
   "metadata": {},
   "outputs": [
    {
     "name": "stderr",
     "output_type": "stream",
     "text": [
      "C:\\Users\\USER\\anaconda3\\envs\\sunny3.8\\lib\\site-packages\\tqdm\\auto.py:21: TqdmWarning: IProgress not found. Please update jupyter and ipywidgets. See https://ipywidgets.readthedocs.io/en/stable/user_install.html\n",
      "  from .autonotebook import tqdm as notebook_tqdm\n"
     ]
    }
   ],
   "source": [
    "import transformers\n",
    "import re\n",
    "import random\n",
    "import numpy as np\n",
    "\n",
    "\n",
    "class BERT_Augmentation():\n",
    "    def __init__(self):\n",
    "        self.model_name = 'monologg/koelectra-base-v3-generator'\n",
    "        self.model = transformers.AutoModelForMaskedLM.from_pretrained(self.model_name)\n",
    "        self.tokenizer = transformers.AutoTokenizer.from_pretrained(self.model_name)\n",
    "        self.unmasker = transformers.pipeline(\"fill-mask\", model=self.model, tokenizer=self.tokenizer)\n",
    "        random.seed(42)\n",
    "        \n",
    "        #무작위 데이터 대체\n",
    "    def random_masking_replacement(self, sentence, ratio=0.15):\n",
    "        \"\"\"Masking random eojeol of the sentence, and recover them using PLM.\n",
    "\n",
    "        Args:\n",
    "            sentence (str): Source sentence\n",
    "            ratio (int): Ratio of masking\n",
    "\n",
    "        Returns:\n",
    "          str: Recovered sentence\n",
    "        \"\"\"\n",
    "        \n",
    "        span = int(round(len(sentence.split()) * ratio))\n",
    "        \n",
    "        # 품질 유지를 위해, 문장의 어절 수가 4 이하라면 원문장을 그대로 리턴합니다.\n",
    "        if len(sentence.split()) <= 4:\n",
    "            return sentence\n",
    "\n",
    "        mask = self.tokenizer.mask_token\n",
    "        unmasker = self.unmasker\n",
    "\n",
    "        unmask_sentence = sentence\n",
    "        # 처음과 끝 부분을 [MASK]로 치환 후 추론할 때의 품질이 좋지 않음.\n",
    "        random_idx = random.randint(1, len(unmask_sentence.split()) - span)\n",
    "        \n",
    "        unmask_sentence = unmask_sentence.split()\n",
    "        # del unmask_sentence[random_idx:random_idx+span]\n",
    "        cache = []\n",
    "        for _ in range(span):\n",
    "            # 처음과 끝 부분을 [MASK]로 치환 후 추론할 때의 품질이 좋지 않음.\n",
    "            while cache and random_idx in cache:\n",
    "                random_idx = random.randint(1, len(unmask_sentence) - 2)\n",
    "            cache.append(random_idx)\n",
    "            unmask_sentence[random_idx] = mask\n",
    "            unmask_sentence = unmasker(\" \".join(unmask_sentence))[0]['sequence']\n",
    "            unmask_sentence = unmask_sentence.split()\n",
    "        unmask_sentence = \" \".join(unmask_sentence)\n",
    "        unmask_sentence = unmask_sentence.replace(\"  \", \" \")\n",
    "\n",
    "        return unmask_sentence.strip()\n",
    "\n",
    "    #데이터 무작위 추가\n",
    "    def random_masking_insertion(self, sentence, ratio=0.15):\n",
    "        \n",
    "        span = int(round(len(sentence.split()) * ratio))\n",
    "        mask = self.tokenizer.mask_token\n",
    "        unmasker = self.unmasker\n",
    "        \n",
    "        # Recover\n",
    "        unmask_sentence = sentence\n",
    "        \n",
    "        for _ in range(span):\n",
    "            unmask_sentence = unmask_sentence.split()\n",
    "            random_idx = random.randint(0, len(unmask_sentence)-1)\n",
    "            unmask_sentence.insert(random_idx, mask)\n",
    "            unmask_sentence = unmasker(\" \".join(unmask_sentence))[0]['sequence']\n",
    "\n",
    "        unmask_sentence = unmask_sentence.replace(\"  \", \" \")\n",
    "\n",
    "        return unmask_sentence.strip()"
   ]
  },
  {
   "cell_type": "code",
   "execution_count": 4,
   "id": "261fa48a",
   "metadata": {},
   "outputs": [
    {
     "name": "stderr",
     "output_type": "stream",
     "text": [
      "C:\\Users\\USER\\anaconda3\\envs\\sunny3.8\\lib\\site-packages\\huggingface_hub\\file_download.py:159: UserWarning: `huggingface_hub` cache-system uses symlinks by default to efficiently store duplicated files but your machine does not support them in C:\\Users\\USER\\.cache\\huggingface\\hub\\models--monologg--koelectra-base-v3-generator. Caching files will still work but in a degraded version that might require more space on your disk. This warning can be disabled by setting the `HF_HUB_DISABLE_SYMLINKS_WARNING` environment variable. For more details, see https://huggingface.co/docs/huggingface_hub/how-to-cache#limitations.\n",
      "To support symlinks on Windows, you either need to activate Developer Mode or to run Python as an administrator. In order to see activate developer mode, see this article: https://docs.microsoft.com/en-us/windows/apps/get-started/enable-your-device-for-development\n",
      "  warnings.warn(message)\n",
      "Hardware accelerator e.g. GPU is available in the environment, but no `device` argument is passed to the `Pipeline` object. Model will be on CPU.\n"
     ]
    }
   ],
   "source": [
    "import pandas as pd\n",
    "BERT_aug = BERT_Augmentation()\n",
    "random_masking_replacement = BERT_aug.random_masking_replacement\n",
    "random_masking_insertion = BERT_aug.random_masking_insertion"
   ]
  },
  {
   "cell_type": "code",
   "execution_count": 14,
   "id": "b98194be",
   "metadata": {},
   "outputs": [
    {
     "name": "stdout",
     "output_type": "stream",
     "text": [
      "random_insertion_replacement: 언제부터 이런 몸살 기운이 있었어요??\n"
     ]
    }
   ],
   "source": [
    "sentence = \"언제부터 몸살 기운이 있었어요??\"\n",
    "ratio = 0.15\n",
    "print('random_insertion_replacement:', random_masking_insertion(sentence, ratio))"
   ]
  },
  {
   "cell_type": "code",
   "execution_count": 15,
   "id": "cefacfe7",
   "metadata": {},
   "outputs": [
    {
     "name": "stdout",
     "output_type": "stream",
     "text": [
      "random_masking_replacement: 언제부터 몸살 기운이 있었어요??\n",
      "random_insertion_replacement: 그런데 언제부터 몸살 기운이 있었어요??\n"
     ]
    }
   ],
   "source": [
    "print('random_masking_replacement:', random_masking_replacement(sentence, ratio))\n",
    "print('random_insertion_replacement:', random_masking_insertion(sentence, ratio))"
   ]
  },
  {
   "cell_type": "code",
   "execution_count": 20,
   "id": "3d773514",
   "metadata": {},
   "outputs": [
    {
     "name": "stderr",
     "output_type": "stream",
     "text": [
      "Hardware accelerator e.g. GPU is available in the environment, but no `device` argument is passed to the `Pipeline` object. Model will be on CPU.\n"
     ]
    },
    {
     "name": "stdout",
     "output_type": "stream",
     "text": [
      "Augmented data saved to augmented_output.csv\n"
     ]
    }
   ],
   "source": [
    "def augment_dataframe(df, text_columns, augmentation_method, ratio=0.15):\n",
    "    augmenter = BERT_Augmentation()\n",
    "\n",
    "    augmented_rows = []\n",
    "    for index, row in df.iterrows():\n",
    "        new_row = row.copy()\n",
    "        for column in text_columns:\n",
    "            text = row[column]\n",
    "            if augmentation_method == 'replacement':\n",
    "                new_row[column] = augmenter.random_masking_replacement(text, ratio)\n",
    "            elif augmentation_method == 'insertion':\n",
    "                new_row[column] = augmenter.random_masking_insertion(text, ratio)\n",
    "            else:\n",
    "                raise ValueError(\"Unsupported augmentation method\")\n",
    "        augmented_rows.append(new_row)\n",
    "\n",
    "    augmented_df = pd.DataFrame(augmented_rows)\n",
    "    combined_df = pd.concat([df, augmented_df], ignore_index=True)\n",
    "    return combined_df\n",
    "\n",
    "# CSV 파일 경로\n",
    "input_file = 'custom_hospital_situation1.csv'\n",
    "output_file = 'augmented_output.csv'\n",
    "\n",
    "# CSV 파일을 읽어 데이터프레임으로 변환\n",
    "try:\n",
    "    df = pd.read_csv(input_file, encoding='utf-8')\n",
    "except UnicodeDecodeError:\n",
    "    df = pd.read_csv(input_file, encoding='euc-kr')\n",
    "\n",
    "# 'inputs'와 'response' 열에 대해 증강 수행\n",
    "text_columns = ['inputs', 'response']\n",
    "augmentation_method = 'replacement'  # 'replacement' 또는 'insertion'\n",
    "ratio = 0.15  # 증강 비율\n",
    "\n",
    "augmented_df = augment_dataframe(df, text_columns, augmentation_method, ratio)\n",
    "augmented_df.to_csv(output_file, index=False, encoding='utf-8-sig')\n",
    "print(f\"Augmented data saved to {output_file}\")\n"
   ]
  },
  {
   "cell_type": "code",
   "execution_count": null,
   "id": "890b7528",
   "metadata": {},
   "outputs": [],
   "source": [
    "custom_hospital_situation1.csv"
   ]
  }
 ],
 "metadata": {
  "kernelspec": {
   "display_name": "Python (sunny3.8)",
   "language": "python",
   "name": "sunny3.8"
  },
  "language_info": {
   "codemirror_mode": {
    "name": "ipython",
    "version": 3
   },
   "file_extension": ".py",
   "mimetype": "text/x-python",
   "name": "python",
   "nbconvert_exporter": "python",
   "pygments_lexer": "ipython3",
   "version": "3.8.18"
  }
 },
 "nbformat": 4,
 "nbformat_minor": 5
}
